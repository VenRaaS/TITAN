{
 "cells": [
  {
   "cell_type": "code",
   "execution_count": 1,
   "metadata": {},
   "outputs": [
    {
     "name": "stderr",
     "output_type": "stream",
     "text": [
      "Using TensorFlow backend.\n"
     ]
    }
   ],
   "source": [
    "import numpy as np  \n",
    "from keras.datasets import mnist\n",
    "\n",
    "(x_train, y_train), (x_test, y_test) = mnist.load_data()"
   ]
  },
  {
   "cell_type": "code",
   "execution_count": 5,
   "metadata": {},
   "outputs": [
    {
     "data": {
      "text/plain": [
       "(60000, 28, 28, 1)"
      ]
     },
     "execution_count": 5,
     "metadata": {},
     "output_type": "execute_result"
    }
   ],
   "source": [
    "x_train_norm = x_train.astype('float32') / 255.\n",
    "x_train_norm = np.reshape(x_train_norm, (len(x_train_norm), 28, 28, 1))\n",
    "x_train_norm.shape"
   ]
  },
  {
   "cell_type": "code",
   "execution_count": 6,
   "metadata": {},
   "outputs": [
    {
     "name": "stdout",
     "output_type": "stream",
     "text": [
      "Epoch 1/10\n",
      "60000/60000 [==============================] - 17s 291us/step - loss: 0.1805\n",
      "Epoch 2/10\n",
      "60000/60000 [==============================] - 17s 285us/step - loss: 0.0925\n",
      "Epoch 3/10\n",
      "60000/60000 [==============================] - 17s 285us/step - loss: 0.0828\n",
      "Epoch 4/10\n",
      "60000/60000 [==============================] - 17s 286us/step - loss: 0.0784\n",
      "Epoch 5/10\n",
      "60000/60000 [==============================] - 17s 286us/step - loss: 0.0761\n",
      "Epoch 6/10\n",
      "60000/60000 [==============================] - 17s 286us/step - loss: 0.0746\n",
      "Epoch 7/10\n",
      "60000/60000 [==============================] - 17s 286us/step - loss: 0.0737\n",
      "Epoch 8/10\n",
      "60000/60000 [==============================] - 17s 286us/step - loss: 0.0729\n",
      "Epoch 9/10\n",
      "60000/60000 [==============================] - 17s 285us/step - loss: 0.0722\n",
      "Epoch 10/10\n",
      "60000/60000 [==============================] - 17s 285us/step - loss: 0.0717\n"
     ]
    }
   ],
   "source": [
    "from keras.models import Model\n",
    "from keras.layers import Input, Dense, Conv2D, MaxPooling2D, Flatten, Dense, UpSampling2D\n",
    "from keras import regularizers\n",
    "\n",
    "input_img = Input(shape=(28, 28, 1)) \n",
    "x = Conv2D(64, (3, 3), activation='sigmoid', padding='same', name=\"c1\")(input_img)\n",
    "x = MaxPooling2D((2, 2), padding='same')(x)\n",
    "x = Conv2D(32, (3, 3), activation='relu', padding='same')(x)\n",
    "encoded = MaxPooling2D((2, 2), padding='same', name=\"c3\")(x)\n",
    "\n",
    "x = UpSampling2D((2, 2))(encoded)\n",
    "x = Conv2D(32, (3, 3), activation='relu', padding='same')(x)\n",
    "x = UpSampling2D((2, 2))(x)\n",
    "x = Conv2D(64, (3, 3), activation='relu', padding='same')(x)\n",
    "decoded = Conv2D(1, (3, 3), activation='sigmoid', padding='same', name='last_layer')(x)\n",
    "\n",
    "autoencoder = Model(inputs=input_img, outputs=decoded)\n",
    "autoencoder.compile(loss='binary_crossentropy', optimizer='adadelta')\n",
    "train_history = autoencoder.fit(x=x_train_norm, y=x_train_norm, batch_size=100, epochs=10, shuffle=True)"
   ]
  },
  {
   "cell_type": "code",
   "execution_count": 8,
   "metadata": {},
   "outputs": [
    {
     "data": {
      "text/plain": [
       "(10000, 28, 28)"
      ]
     },
     "execution_count": 8,
     "metadata": {},
     "output_type": "execute_result"
    }
   ],
   "source": [
    "np.shape(x_test)"
   ]
  },
  {
   "cell_type": "code",
   "execution_count": 9,
   "metadata": {},
   "outputs": [],
   "source": [
    "x_test = x_test.astype('float32')\n",
    "x_test_norm = x_test/255\n",
    "x_test_norm = np.reshape(x_test_norm, (len(x_test_norm), 28, 28, 1))"
   ]
  },
  {
   "cell_type": "code",
   "execution_count": 10,
   "metadata": {},
   "outputs": [],
   "source": [
    "decoded_imgs = autoencoder.predict(x_test_norm)"
   ]
  },
  {
   "cell_type": "code",
   "execution_count": 11,
   "metadata": {},
   "outputs": [
    {
     "data": {
      "image/png": "[encoded data removed]",
      "text/plain": [
       "<Figure size 1440x288 with 20 Axes>"
      ]
     },
     "metadata": {},
     "output_type": "display_data"
    }
   ],
   "source": [
    "import matplotlib.pyplot as plt\n",
    "\n",
    "plt.figure(figsize=(20, 4))\n",
    "n = 10\n",
    "for i in range(n):    \n",
    "    plt.subplot(2, n, i + 1)\n",
    "    img = x_test[i]\n",
    "    plt.imshow(img)\n",
    "    \n",
    "    plt.subplot(2, n, i + 1 + n)\n",
    "    img = decoded_imgs[i].reshape(28,28)\n",
    "    plt.imshow(img)\n",
    "plt.gray()"
   ]
  },
  {
   "cell_type": "code",
   "execution_count": null,
   "metadata": {},
   "outputs": [],
   "source": []
  }
 ],
 "metadata": {
  "kernelspec": {
   "display_name": "Python 2",
   "language": "python",
   "name": "python2"
  },
  "language_info": {
   "codemirror_mode": {
    "name": "ipython",
    "version": 2
   },
   "file_extension": ".py",
   "mimetype": "text/x-python",
   "name": "python",
   "nbconvert_exporter": "python",
   "pygments_lexer": "ipython2",
   "version": "2.7.14"
  }
 },
 "nbformat": 4,
 "nbformat_minor": 2
}
