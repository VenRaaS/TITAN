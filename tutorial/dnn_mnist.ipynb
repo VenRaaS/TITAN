{
 "cells": [
  {
   "cell_type": "code",
   "execution_count": 9,
   "metadata": {},
   "outputs": [],
   "source": [
    "import numpy as np  \n",
    "from keras.models import Sequential\n",
    "from keras.datasets import mnist\n",
    "\n",
    "(x_train, y_train), (x_test, y_test) = mnist.load_data()"
   ]
  },
  {
   "cell_type": "code",
   "execution_count": 10,
   "metadata": {},
   "outputs": [
    {
     "data": {
      "text/plain": [
       "(60000, 28, 28)"
      ]
     },
     "execution_count": 10,
     "metadata": {},
     "output_type": "execute_result"
    }
   ],
   "source": [
    "np.shape(x_train)"
   ]
  },
  {
   "cell_type": "code",
   "execution_count": 11,
   "metadata": {},
   "outputs": [
    {
     "data": {
      "image/png": "[encoded data removed]",
      "text/plain": [
       "<Figure size 1440x720 with 8 Axes>"
      ]
     },
     "metadata": {},
     "output_type": "display_data"
    }
   ],
   "source": [
    "from matplotlib import pyplot as plt\n",
    "\n",
    "columns = 8\n",
    "fig = plt.figure(figsize=(20,10))\n",
    "for i in range(1, columns + 1):\n",
    "    fig.add_subplot(1, columns, i)\n",
    "    plt.imshow(x_train[i-1])\n",
    "plt.gray()"
   ]
  },
  {
   "cell_type": "code",
   "execution_count": 15,
   "metadata": {},
   "outputs": [
    {
     "name": "stdout",
     "output_type": "stream",
     "text": [
      "(60000, 784)\n"
     ]
    }
   ],
   "source": [
    "x_train_1D = x_train.reshape(60000, 28*28)\n",
    "print np.shape(x_train_1D)\n",
    "\n",
    "x_train_norm = x_train_1D.astype('float32')\n",
    "x_train_norm = x_train_norm/255"
   ]
  },
  {
   "cell_type": "code",
   "execution_count": 16,
   "metadata": {},
   "outputs": [
    {
     "name": "stdout",
     "output_type": "stream",
     "text": [
      "(60000,)\n",
      "[5 0 4 1 9 2 1 3 1 4]\n"
     ]
    }
   ],
   "source": [
    "print np.shape(y_train)\n",
    "print y_train[0:10]"
   ]
  },
  {
   "cell_type": "markdown",
   "metadata": {},
   "source": [
    "### [One-hot encoding](https://en.wikipedia.org/wiki/One-hot)\n",
    "![](https://drive.google.com/uc?id=1C4-g8Rus_DJ6cxN1NXf5HFrEUNu2oHtL)"
   ]
  },
  {
   "cell_type": "code",
   "execution_count": 17,
   "metadata": {},
   "outputs": [
    {
     "data": {
      "text/plain": [
       "array([[ 0.,  0.,  0.,  0.,  0.,  1.,  0.,  0.,  0.,  0.],\n",
       "       [ 1.,  0.,  0.,  0.,  0.,  0.,  0.,  0.,  0.,  0.],\n",
       "       [ 0.,  0.,  0.,  0.,  1.,  0.,  0.,  0.,  0.,  0.]])"
      ]
     },
     "execution_count": 17,
     "metadata": {},
     "output_type": "execute_result"
    }
   ],
   "source": [
    "from keras.utils import np_utils\n",
    "y_train_onehot = np_utils.to_categorical(y_train) \n",
    "y_train_onehot[:3]"
   ]
  },
  {
   "cell_type": "code",
   "execution_count": 20,
   "metadata": {},
   "outputs": [
    {
     "name": "stdout",
     "output_type": "stream",
     "text": [
      "_________________________________________________________________\n",
      "Layer (type)                 Output Shape              Param #   \n",
      "=================================================================\n",
      "layer_1 (Dense)              (None, 100)               78500     \n",
      "_________________________________________________________________\n",
      "layer_2 (Dense)              (None, 10)                1010      \n",
      "=================================================================\n",
      "Total params: 79,510\n",
      "Trainable params: 79,510\n",
      "Non-trainable params: 0\n",
      "_________________________________________________________________\n",
      "None\n",
      "Epoch 1/10\n",
      "60000/60000 [==============================] - 3s 50us/step - loss: 1.9526 - acc: 0.5529\n",
      "Epoch 2/10\n",
      "60000/60000 [==============================] - 3s 47us/step - loss: 1.3991 - acc: 0.7419\n",
      "Epoch 3/10\n",
      "60000/60000 [==============================] - 3s 47us/step - loss: 1.0514 - acc: 0.7997\n",
      "Epoch 4/10\n",
      "60000/60000 [==============================] - 3s 47us/step - loss: 0.8488 - acc: 0.8298\n",
      "Epoch 5/10\n",
      "60000/60000 [==============================] - 3s 47us/step - loss: 0.7255 - acc: 0.8455\n",
      "Epoch 6/10\n",
      "60000/60000 [==============================] - 3s 47us/step - loss: 0.6438 - acc: 0.8568\n",
      "Epoch 7/10\n",
      "60000/60000 [==============================] - 3s 46us/step - loss: 0.5862 - acc: 0.8649\n",
      "Epoch 8/10\n",
      "60000/60000 [==============================] - 3s 47us/step - loss: 0.5431 - acc: 0.8708\n",
      "Epoch 9/10\n",
      "60000/60000 [==============================] - 3s 48us/step - loss: 0.5097 - acc: 0.8760\n",
      "Epoch 10/10\n",
      "60000/60000 [==============================] - 3s 46us/step - loss: 0.4833 - acc: 0.8800\n"
     ]
    }
   ],
   "source": [
    "from keras.layers import Dense\n",
    "\n",
    "model = Sequential()\n",
    "model.add(Dense(units=100, input_shape=(28*28,), activation='sigmoid', name='layer_1'))\n",
    "model.add(Dense(units=10, activation='softmax', name='layer_2'))\n",
    "model.compile(loss='categorical_crossentropy', optimizer='SGD', metrics=['accuracy'])\n",
    "print model.summary()\n",
    "\n",
    "train_history = model.fit(x=x_train_norm, y=y_train_onehot, batch_size=100, epochs=10)"
   ]
  },
  {
   "cell_type": "markdown",
   "metadata": {},
   "source": [
    "![](https://drive.google.com/uc?id=1Pyd1JZA-HdG0n2J9_TxFuGx7xxAuXK7O)\n",
    "[source - Introduction of Deep Learning, p21, 李宏毅](http://speech.ee.ntu.edu.tw/~tlkagk/courses/ML_2017/Lecture/DL.pdf)\n",
    "\n",
    "* activation - [softmax](https://www.youtube.com/watch?v=hSXFuypLukA&feature=youtu.be&list=PLJV_el3uVTsPy9oCRY30oBPNLCo89yu49&t=3005)\n",
    "* loss - [cross_entropy](https://www.youtube.com/watch?v=tRsSi_sqXjI&feature=youtu.be&t=36) ([categorical_crossentropy in keras\n",
    "](https://keras.io/losses/#categorical_crossentropy))\n",
    "\n",
    "### Softmax\n",
    "![](https://drive.google.com/uc?id=1OJ0JS7lVdR9YhiyY-DA79AIzvYsxKtvc)\n",
    "[source - Classification Logistic Regression, 24, 李宏毅][1]\n",
    "[1]:http://speech.ee.ntu.edu.tw/~tlkagk/courses/ML_2017/Lecture/Logistic%20Regression%20(v4).pdf\n",
    "### Cross entroy vs Square error\n",
    "![](https://drive.google.com/uc?id=1ZMRRk_7MRY9m2Xe-gEhqEIG19c0zVKFk)\n",
    "[source - Classification: Logistic Regression, p14, 李宏毅][2]\n",
    "[2]:http://speech.ee.ntu.edu.tw/~tlkagk/courses/ML_2017/Lecture/Logistic%20Regression%20(v4).pdf"
   ]
  },
  {
   "cell_type": "code",
   "execution_count": 21,
   "metadata": {},
   "outputs": [
    {
     "data": {
      "image/png": "[encoded data removed]",
      "text/plain": [
       "<Figure size 432x288 with 1 Axes>"
      ]
     },
     "metadata": {},
     "output_type": "display_data"
    }
   ],
   "source": [
    "from matplotlib import pyplot as plt\n",
    "plt.plot(train_history.history['acc'])\n",
    "plt.show()"
   ]
  },
  {
   "cell_type": "markdown",
   "metadata": {},
   "source": [
    "# Test"
   ]
  },
  {
   "cell_type": "code",
   "execution_count": 22,
   "metadata": {},
   "outputs": [
    {
     "data": {
      "text/plain": [
       "(10000, 28, 28)"
      ]
     },
     "execution_count": 22,
     "metadata": {},
     "output_type": "execute_result"
    }
   ],
   "source": [
    "np.shape(x_test)"
   ]
  },
  {
   "cell_type": "code",
   "execution_count": 29,
   "metadata": {},
   "outputs": [],
   "source": [
    "x_test_1D = x_test.reshape(10000, 28*28)\n",
    "x_test_1D = x_test_1D.astype('float32')\n",
    "x_test_norm = x_test_1D/255"
   ]
  },
  {
   "cell_type": "code",
   "execution_count": 30,
   "metadata": {},
   "outputs": [],
   "source": [
    "y_test_onehot = np_utils.to_categorical(y_test) "
   ]
  },
  {
   "cell_type": "code",
   "execution_count": 31,
   "metadata": {},
   "outputs": [
    {
     "name": "stdout",
     "output_type": "stream",
     "text": [
      "10000/10000 [==============================] - 0s 42us/step\n"
     ]
    },
    {
     "data": {
      "text/plain": [
       "[0.45268419818878175, 0.88949999999999996]"
      ]
     },
     "execution_count": 31,
     "metadata": {},
     "output_type": "execute_result"
    }
   ],
   "source": [
    "model.evaluate(x=x_test_norm, y=y_test_onehot)"
   ]
  },
  {
   "cell_type": "code",
   "execution_count": 35,
   "metadata": {},
   "outputs": [
    {
     "name": "stdout",
     "output_type": "stream",
     "text": [
      "(10000, 10)\n",
      "[  4.66634901e-06   4.20515249e-07   7.07649588e-06   3.72249742e-05\n",
      "   2.78404832e-06   2.27642772e-06   4.97285768e-08   9.99722064e-01\n",
      "   1.27509952e-06   2.22194969e-04]\n"
     ]
    }
   ],
   "source": [
    "y_pred = model.predict(x_test_1D)\n",
    "print y_pred.shape\n",
    "print y_pred[0]"
   ]
  },
  {
   "cell_type": "code",
   "execution_count": 39,
   "metadata": {},
   "outputs": [],
   "source": [
    "y_pred = model.predict_classes(x_test_1D)"
   ]
  },
  {
   "cell_type": "markdown",
   "metadata": {},
   "source": [
    "## classification report"
   ]
  },
  {
   "cell_type": "code",
   "execution_count": 40,
   "metadata": {},
   "outputs": [
    {
     "name": "stdout",
     "output_type": "stream",
     "text": [
      "             precision    recall  f1-score   support\n",
      "\n",
      "    Class 0       0.87      0.98      0.92       980\n",
      "    Class 1       0.95      0.96      0.95      1135\n",
      "    Class 2       0.90      0.84      0.87      1032\n",
      "    Class 3       0.84      0.90      0.87      1010\n",
      "    Class 4       0.85      0.92      0.88       982\n",
      "    Class 5       0.94      0.63      0.75       892\n",
      "    Class 6       0.89      0.92      0.91       958\n",
      "    Class 7       0.93      0.85      0.89      1028\n",
      "    Class 8       0.76      0.88      0.82       974\n",
      "    Class 9       0.86      0.84      0.85      1009\n",
      "\n",
      "avg / total       0.88      0.88      0.87     10000\n",
      "\n"
     ]
    }
   ],
   "source": [
    "from sklearn.metrics import classification_report\n",
    "\n",
    "target_names = [ \"Class {}\".format(i) for i in range(np.max(y_test) + 1) ]\n",
    "print(classification_report(y_test, y_pred, target_names=target_names))"
   ]
  },
  {
   "cell_type": "markdown",
   "metadata": {},
   "source": [
    "## confusion matrix"
   ]
  },
  {
   "cell_type": "code",
   "execution_count": 41,
   "metadata": {},
   "outputs": [
    {
     "data": {
      "text/plain": [
       "array([[ 957,    0,    3,    3,    0,    0,    8,    1,    8,    0],\n",
       "       [   0, 1084,   11,    5,    1,    1,    4,    0,   29,    0],\n",
       "       [  22,    8,  869,   18,   23,    0,   29,   18,   43,    2],\n",
       "       [   8,    1,   18,  913,    2,   15,    4,   11,   28,   10],\n",
       "       [   4,    2,    2,    0,  899,    0,   17,    1,   19,   38],\n",
       "       [  42,   10,    6,  101,   20,  561,   28,    9,  104,   11],\n",
       "       [  31,    2,    7,    2,   15,    9,  884,    0,    8,    0],\n",
       "       [   7,   26,   27,    2,   17,    0,    0,  877,   12,   60],\n",
       "       [  13,    6,    8,   27,    9,   11,   17,    6,  860,   17],\n",
       "       [  18,    7,   11,   12,   69,    2,    0,   17,   25,  848]])"
      ]
     },
     "execution_count": 41,
     "metadata": {},
     "output_type": "execute_result"
    }
   ],
   "source": [
    "from sklearn.metrics import confusion_matrix\n",
    "confusion_matrix(y_test, y_pred)"
   ]
  },
  {
   "cell_type": "code",
   "execution_count": null,
   "metadata": {},
   "outputs": [],
   "source": []
  }
 ],
 "metadata": {
  "kernelspec": {
   "display_name": "Python 2",
   "language": "python",
   "name": "python2"
  },
  "language_info": {
   "codemirror_mode": {
    "name": "ipython",
    "version": 2
   },
   "file_extension": ".py",
   "mimetype": "text/x-python",
   "name": "python",
   "nbconvert_exporter": "python",
   "pygments_lexer": "ipython2",
   "version": "2.7.14"
  }
 },
 "nbformat": 4,
 "nbformat_minor": 2
}
