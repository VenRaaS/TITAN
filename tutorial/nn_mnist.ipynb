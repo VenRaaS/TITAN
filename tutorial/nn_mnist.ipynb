{
 "cells": [
  {
   "cell_type": "code",
   "execution_count": 61,
   "metadata": {},
   "outputs": [],
   "source": [
    "import numpy as np  \n",
    "from keras.models import Sequential\n",
    "from keras.datasets import mnist\n",
    "\n",
    "(x_train, y_train), (x_test, y_test) = mnist.load_data()"
   ]
  },
  {
   "cell_type": "code",
   "execution_count": 62,
   "metadata": {},
   "outputs": [
    {
     "data": {
      "text/plain": [
       "(60000, 28, 28)"
      ]
     },
     "execution_count": 62,
     "metadata": {},
     "output_type": "execute_result"
    }
   ],
   "source": [
    "np.shape(x_train)"
   ]
  },
  {
   "cell_type": "code",
   "execution_count": 63,
   "metadata": {},
   "outputs": [
    {
     "data": {
      "image/png": "[encoded data removed]",
      "text/plain": [
       "<Figure size 1440x720 with 8 Axes>"
      ]
     },
     "metadata": {},
     "output_type": "display_data"
    }
   ],
   "source": [
    "from matplotlib import pyplot as plt\n",
    "\n",
    "columns = 8\n",
    "fig = plt.figure(figsize=(20,10))\n",
    "for i in range(1, columns + 1):\n",
    "    fig.add_subplot(1, columns, i)\n",
    "    plt.imshow(x_train[i-1])\n",
    "plt.gray()"
   ]
  },
  {
   "cell_type": "code",
   "execution_count": 64,
   "metadata": {},
   "outputs": [
    {
     "data": {
      "text/plain": [
       "array([5, 0, 4, 1, 9, 2, 1, 3], dtype=uint8)"
      ]
     },
     "execution_count": 64,
     "metadata": {},
     "output_type": "execute_result"
    }
   ],
   "source": [
    "y_train[0:8]"
   ]
  },
  {
   "cell_type": "code",
   "execution_count": 65,
   "metadata": {},
   "outputs": [
    {
     "data": {
      "text/plain": [
       "array([[ 0.,  0.,  0.,  0.,  0.,  1.,  0.,  0.,  0.,  0.],\n",
       "       [ 1.,  0.,  0.,  0.,  0.,  0.,  0.,  0.,  0.,  0.],\n",
       "       [ 0.,  0.,  0.,  0.,  1.,  0.,  0.,  0.,  0.,  0.]])"
      ]
     },
     "execution_count": 65,
     "metadata": {},
     "output_type": "execute_result"
    }
   ],
   "source": [
    "from keras.utils import np_utils\n",
    "y_train_onehot = np_utils.to_categorical(y_train) \n",
    "y_train_onehot[:3]"
   ]
  },
  {
   "cell_type": "code",
   "execution_count": 66,
   "metadata": {},
   "outputs": [
    {
     "data": {
      "text/plain": [
       "(60000, 784)"
      ]
     },
     "execution_count": 66,
     "metadata": {},
     "output_type": "execute_result"
    }
   ],
   "source": [
    "x_train_1D = x_train.reshape(60000, 28*28)\n",
    "np.shape(x_train_1D)"
   ]
  },
  {
   "cell_type": "code",
   "execution_count": 67,
   "metadata": {},
   "outputs": [],
   "source": [
    "x_train_norm = x_train_1D.astype('float32')\n",
    "x_train_norm = x_train_norm/255"
   ]
  },
  {
   "cell_type": "code",
   "execution_count": 71,
   "metadata": {},
   "outputs": [
    {
     "name": "stdout",
     "output_type": "stream",
     "text": [
      "_________________________________________________________________\n",
      "Layer (type)                 Output Shape              Param #   \n",
      "=================================================================\n",
      "layer_1 (Dense)              (None, 100)               78500     \n",
      "_________________________________________________________________\n",
      "layer_2 (Dense)              (None, 10)                1010      \n",
      "=================================================================\n",
      "Total params: 79,510\n",
      "Trainable params: 79,510\n",
      "Non-trainable params: 0\n",
      "_________________________________________________________________\n",
      "None\n",
      "Epoch 1/10\n",
      "60000/60000 [==============================] - 3s 42us/step - loss: 1.9356 - acc: 0.5670\n",
      "Epoch 2/10\n",
      "60000/60000 [==============================] - 3s 49us/step - loss: 1.3756 - acc: 0.7613\n",
      "Epoch 3/10\n",
      "60000/60000 [==============================] - 3s 47us/step - loss: 1.0345 - acc: 0.8058\n",
      "Epoch 4/10\n",
      "60000/60000 [==============================] - 3s 49us/step - loss: 0.8389 - acc: 0.8281\n",
      "Epoch 5/10\n",
      "60000/60000 [==============================] - 3s 47us/step - loss: 0.7194 - acc: 0.8434\n",
      "Epoch 6/10\n",
      "60000/60000 [==============================] - 3s 47us/step - loss: 0.6400 - acc: 0.8549\n",
      "Epoch 7/10\n",
      "60000/60000 [==============================] - 3s 48us/step - loss: 0.5836 - acc: 0.8628\n",
      "Epoch 8/10\n",
      "60000/60000 [==============================] - 3s 47us/step - loss: 0.5415 - acc: 0.8695\n",
      "Epoch 9/10\n",
      "60000/60000 [==============================] - 3s 49us/step - loss: 0.5089 - acc: 0.8743\n",
      "Epoch 10/10\n",
      "60000/60000 [==============================] - 3s 49us/step - loss: 0.4830 - acc: 0.8787\n"
     ]
    }
   ],
   "source": [
    "from keras.layers import Dense\n",
    "\n",
    "model = Sequential()\n",
    "model.add(Dense(units=100, input_shape=(28*28,), activation='sigmoid', name='layer_1'))\n",
    "model.add(Dense(units=10, activation='softmax', name='layer_2'))\n",
    "model.compile(loss='categorical_crossentropy', optimizer='SGD', metrics=['accuracy'])\n",
    "print model.summary()\n",
    "\n",
    "train_history = model.fit(x=x_train_norm, y=y_train_onehot, epochs=10, batch_size=100)"
   ]
  },
  {
   "cell_type": "code",
   "execution_count": 72,
   "metadata": {
    "scrolled": true
   },
   "outputs": [
    {
     "data": {
      "text/plain": [
       "[<matplotlib.lines.Line2D at 0x7fe68bb01a10>]"
      ]
     },
     "execution_count": 72,
     "metadata": {},
     "output_type": "execute_result"
    },
    {
     "data": {
      "image/png": "[encoded data removed]",
      "text/plain": [
       "<Figure size 432x288 with 1 Axes>"
      ]
     },
     "metadata": {},
     "output_type": "display_data"
    }
   ],
   "source": [
    "plt.plot(train_history.history['acc'])"
   ]
  },
  {
   "cell_type": "markdown",
   "metadata": {},
   "source": [
    "# Test"
   ]
  },
  {
   "cell_type": "code",
   "execution_count": 73,
   "metadata": {},
   "outputs": [],
   "source": [
    "x_test_1D = x_test.reshape(10000, 28*28)\n",
    "x_test_1D = x_test_1D.astype('float32')\n",
    "x_test_norm = x_test_1D/255"
   ]
  },
  {
   "cell_type": "code",
   "execution_count": 74,
   "metadata": {},
   "outputs": [],
   "source": [
    "y_test_onehot = np_utils.to_categorical(y_test) "
   ]
  },
  {
   "cell_type": "code",
   "execution_count": 75,
   "metadata": {},
   "outputs": [
    {
     "name": "stdout",
     "output_type": "stream",
     "text": [
      "10000/10000 [==============================] - 1s 51us/step\n"
     ]
    },
    {
     "data": {
      "text/plain": [
       "[0.45249762659072879, 0.88849999999999996]"
      ]
     },
     "execution_count": 75,
     "metadata": {},
     "output_type": "execute_result"
    }
   ],
   "source": [
    "model.evaluate(x=x_test_norm, y=y_test_onehot)"
   ]
  },
  {
   "cell_type": "code",
   "execution_count": 76,
   "metadata": {},
   "outputs": [
    {
     "data": {
      "text/plain": [
       "array([[  1.19165948e-03,   1.27747306e-04,   5.16801083e-04,\n",
       "          2.56763306e-03,   1.20784983e-03,   1.27818040e-03,\n",
       "          5.16730870e-05,   9.74634826e-01,   6.03628403e-04,\n",
       "          1.78200249e-02]], dtype=float32)"
      ]
     },
     "execution_count": 76,
     "metadata": {},
     "output_type": "execute_result"
    }
   ],
   "source": [
    "model.predict(x_test_norm[0:1,:])"
   ]
  },
  {
   "cell_type": "code",
   "execution_count": 77,
   "metadata": {},
   "outputs": [],
   "source": [
    "y_pred = model.predict_classes(x_test_norm)"
   ]
  },
  {
   "cell_type": "markdown",
   "metadata": {},
   "source": [
    "## classification report"
   ]
  },
  {
   "cell_type": "code",
   "execution_count": 78,
   "metadata": {},
   "outputs": [
    {
     "name": "stdout",
     "output_type": "stream",
     "text": [
      "             precision    recall  f1-score   support\n",
      "\n",
      "    Class 0       0.91      0.97      0.94       980\n",
      "    Class 1       0.93      0.97      0.95      1135\n",
      "    Class 2       0.90      0.84      0.87      1032\n",
      "    Class 3       0.87      0.88      0.88      1010\n",
      "    Class 4       0.87      0.91      0.89       982\n",
      "    Class 5       0.87      0.80      0.83       892\n",
      "    Class 6       0.89      0.92      0.90       958\n",
      "    Class 7       0.90      0.88      0.89      1028\n",
      "    Class 8       0.85      0.84      0.84       974\n",
      "    Class 9       0.87      0.85      0.86      1009\n",
      "\n",
      "avg / total       0.89      0.89      0.89     10000\n",
      "\n"
     ]
    }
   ],
   "source": [
    "from sklearn.metrics import classification_report\n",
    "\n",
    "target_names = [ \"Class {}\".format(i) for i in range(np.max(y_test) + 1) ]\n",
    "print(classification_report(y_test, y_pred, target_names=target_names))"
   ]
  },
  {
   "cell_type": "markdown",
   "metadata": {},
   "source": [
    "## confusion matrix"
   ]
  },
  {
   "cell_type": "code",
   "execution_count": 79,
   "metadata": {},
   "outputs": [
    {
     "data": {
      "text/plain": [
       "array([[ 955,    0,    3,    3,    0,    8,    8,    1,    2,    0],\n",
       "       [   0, 1102,    2,    4,    0,    1,    4,    0,   22,    0],\n",
       "       [  14,   13,  869,   22,   16,    0,   29,   22,   41,    6],\n",
       "       [   5,    1,   20,  893,    0,   33,    7,   19,   25,    7],\n",
       "       [   2,    8,    6,    0,  892,    2,   15,    1,    8,   48],\n",
       "       [  19,    6,    5,   58,   18,  713,   25,   10,   28,   10],\n",
       "       [  17,    3,   15,    2,   17,   23,  878,    0,    3,    0],\n",
       "       [   4,   27,   24,    3,   12,    0,    1,  909,    5,   43],\n",
       "       [  12,   14,   14,   35,   13,   24,   16,   12,  816,   18],\n",
       "       [  17,    9,    7,    8,   54,   12,    1,   34,    9,  858]])"
      ]
     },
     "execution_count": 79,
     "metadata": {},
     "output_type": "execute_result"
    }
   ],
   "source": [
    "from sklearn.metrics import confusion_matrix\n",
    "confusion_matrix(y_test, y_pred)"
   ]
  },
  {
   "cell_type": "code",
   "execution_count": null,
   "metadata": {},
   "outputs": [],
   "source": []
  }
 ],
 "metadata": {
  "kernelspec": {
   "display_name": "Python 2",
   "language": "python",
   "name": "python2"
  },
  "language_info": {
   "codemirror_mode": {
    "name": "ipython",
    "version": 2
   },
   "file_extension": ".py",
   "mimetype": "text/x-python",
   "name": "python",
   "nbconvert_exporter": "python",
   "pygments_lexer": "ipython2",
   "version": "2.7.14"
  }
 },
 "nbformat": 4,
 "nbformat_minor": 2
}
